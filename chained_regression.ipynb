{
 "cells": [
  {
   "cell_type": "code",
   "execution_count": 1,
   "id": "3f0dde16-672b-4673-9e1f-726c5a4e0731",
   "metadata": {
    "tags": []
   },
   "outputs": [],
   "source": [
    "import math\n",
    "import re\n",
    "import pandas as pd\n",
    "import numpy as np\n",
    "import seaborn as sns\n",
    "import matplotlib.pyplot as plt\n",
    "from collections import Counter\n",
    "\n",
    "import nltk\n",
    "from nltk import bigrams, trigrams\n",
    "from nltk.corpus import stopwords\n",
    "from nltk.tokenize import word_tokenize\n",
    "from nltk.probability import FreqDist\n",
    "from spellchecker import SpellChecker\n",
    "\n",
    "\n",
    "from sklearn.preprocessing import StandardScaler\n",
    "from sklearn.metrics import mean_squared_error\n",
    "from sklearn.metrics import r2_score\n",
    "from sklearn.model_selection import train_test_split\n",
    "\n",
    "import lightgbm as lgb\n",
    "from sklearn.neighbors import KNeighborsRegressor\n",
    "from sklearn.linear_model import Lasso\n",
    "from sklearn.linear_model import ElasticNet\n",
    "from sklearn.linear_model import LinearRegression\n",
    "from sklearn.linear_model import RidgeCV\n",
    "\n",
    "from sklearn.ensemble import ExtraTreesRegressor\n",
    "from sklearn.ensemble import GradientBoostingRegressor\n",
    "from sklearn.ensemble import RandomForestRegressor\n",
    "from sklearn.ensemble import AdaBoostRegressor\n",
    "\n",
    "from sklearn.svm import LinearSVR, SVR\n",
    "from sklearn.tree import DecisionTreeRegressor\n",
    "\n",
    "from sklearn.multioutput import RegressorChain\n",
    "from sklearn.multioutput import MultiOutputRegressor"
   ]
  },
  {
   "cell_type": "code",
   "execution_count": 2,
   "id": "42b0c2b2-2837-479f-a682-6262486e0303",
   "metadata": {
    "tags": []
   },
   "outputs": [],
   "source": [
    "df = pd.read_csv(\"data/training_data/df_1.csv\")"
   ]
  },
  {
   "cell_type": "code",
   "execution_count": 3,
   "id": "075555bb-1e73-47ce-aeb4-3478d3220ba1",
   "metadata": {
    "tags": []
   },
   "outputs": [
    {
     "data": {
      "text/plain": [
       "Index(['prompt_id', 'prompt_question', 'prompt_title', 'prompt_text',\n",
       "       'student_id', 'text', 'content', 'wording', 'len', 'ttr',\n",
       "       'stopwords_ratio', 'cossim', 'conts', 'misspelled', 'nouns', 'adjs',\n",
       "       'vbs', 'prons', 'nums', 'conjns'],\n",
       "      dtype='object')"
      ]
     },
     "execution_count": 3,
     "metadata": {},
     "output_type": "execute_result"
    }
   ],
   "source": [
    "df.columns"
   ]
  },
  {
   "cell_type": "code",
   "execution_count": 4,
   "id": "ca51b969-5fb1-416d-aa62-431269241ec7",
   "metadata": {
    "tags": []
   },
   "outputs": [],
   "source": [
    "df = df.drop(['prompt_id', 'prompt_question', 'prompt_title', 'prompt_text',\n",
    "       'student_id', 'text','nouns','adjs','vbs','prons','nums','conjns'], axis = 1)"
   ]
  },
  {
   "cell_type": "code",
   "execution_count": 5,
   "id": "eca2ec1e-d587-4b07-994b-08864ca39457",
   "metadata": {
    "tags": []
   },
   "outputs": [
    {
     "data": {
      "text/html": [
       "<div>\n",
       "<style scoped>\n",
       "    .dataframe tbody tr th:only-of-type {\n",
       "        vertical-align: middle;\n",
       "    }\n",
       "\n",
       "    .dataframe tbody tr th {\n",
       "        vertical-align: top;\n",
       "    }\n",
       "\n",
       "    .dataframe thead th {\n",
       "        text-align: right;\n",
       "    }\n",
       "</style>\n",
       "<table border=\"1\" class=\"dataframe\">\n",
       "  <thead>\n",
       "    <tr style=\"text-align: right;\">\n",
       "      <th></th>\n",
       "      <th>content</th>\n",
       "      <th>wording</th>\n",
       "      <th>len</th>\n",
       "      <th>ttr</th>\n",
       "      <th>stopwords_ratio</th>\n",
       "      <th>cossim</th>\n",
       "      <th>conts</th>\n",
       "      <th>misspelled</th>\n",
       "    </tr>\n",
       "  </thead>\n",
       "  <tbody>\n",
       "    <tr>\n",
       "      <th>0</th>\n",
       "      <td>-0.210614</td>\n",
       "      <td>-0.471415</td>\n",
       "      <td>59</td>\n",
       "      <td>0.593220</td>\n",
       "      <td>0.51</td>\n",
       "      <td>0.381895</td>\n",
       "      <td>0</td>\n",
       "      <td>0</td>\n",
       "    </tr>\n",
       "    <tr>\n",
       "      <th>1</th>\n",
       "      <td>-0.970237</td>\n",
       "      <td>-0.417058</td>\n",
       "      <td>30</td>\n",
       "      <td>0.933333</td>\n",
       "      <td>0.33</td>\n",
       "      <td>0.256620</td>\n",
       "      <td>0</td>\n",
       "      <td>2</td>\n",
       "    </tr>\n",
       "    <tr>\n",
       "      <th>2</th>\n",
       "      <td>-0.387791</td>\n",
       "      <td>-0.584181</td>\n",
       "      <td>74</td>\n",
       "      <td>0.689189</td>\n",
       "      <td>0.32</td>\n",
       "      <td>0.463205</td>\n",
       "      <td>1</td>\n",
       "      <td>1</td>\n",
       "    </tr>\n",
       "    <tr>\n",
       "      <th>3</th>\n",
       "      <td>0.088882</td>\n",
       "      <td>-0.594710</td>\n",
       "      <td>61</td>\n",
       "      <td>0.672131</td>\n",
       "      <td>0.44</td>\n",
       "      <td>0.547496</td>\n",
       "      <td>0</td>\n",
       "      <td>0</td>\n",
       "    </tr>\n",
       "    <tr>\n",
       "      <th>4</th>\n",
       "      <td>-0.687288</td>\n",
       "      <td>-0.460886</td>\n",
       "      <td>63</td>\n",
       "      <td>0.714286</td>\n",
       "      <td>0.44</td>\n",
       "      <td>0.517335</td>\n",
       "      <td>1</td>\n",
       "      <td>6</td>\n",
       "    </tr>\n",
       "  </tbody>\n",
       "</table>\n",
       "</div>"
      ],
      "text/plain": [
       "    content   wording  len       ttr  stopwords_ratio    cossim  conts  \\\n",
       "0 -0.210614 -0.471415   59  0.593220             0.51  0.381895      0   \n",
       "1 -0.970237 -0.417058   30  0.933333             0.33  0.256620      0   \n",
       "2 -0.387791 -0.584181   74  0.689189             0.32  0.463205      1   \n",
       "3  0.088882 -0.594710   61  0.672131             0.44  0.547496      0   \n",
       "4 -0.687288 -0.460886   63  0.714286             0.44  0.517335      1   \n",
       "\n",
       "   misspelled  \n",
       "0           0  \n",
       "1           2  \n",
       "2           1  \n",
       "3           0  \n",
       "4           6  "
      ]
     },
     "execution_count": 5,
     "metadata": {},
     "output_type": "execute_result"
    }
   ],
   "source": [
    "df.head()"
   ]
  },
  {
   "cell_type": "code",
   "execution_count": 6,
   "id": "dc28883d-6cc1-4f11-b656-e1f5712e81ff",
   "metadata": {
    "tags": []
   },
   "outputs": [],
   "source": [
    "conts_n = []\n",
    "mis_n = []\n",
    "\n",
    "for i in df['conts']:\n",
    "    if i == 0:\n",
    "        conts_n.append(0)\n",
    "    else:\n",
    "        conts_n.append(np.sqrt(i))\n",
    "        \n",
    "for i in df['misspelled']:\n",
    "    if i == 0:\n",
    "        mis_n.append(0)\n",
    "    else:\n",
    "        mis_n.append(np.sqrt(i))\n",
    "\n",
    "df['conts'],df['misspelled'] = conts_n,mis_n"
   ]
  },
  {
   "cell_type": "code",
   "execution_count": 7,
   "id": "edc7caea-0514-4346-b839-02dd88e3ad81",
   "metadata": {
    "tags": []
   },
   "outputs": [],
   "source": [
    "df_test = df.loc[:, ['content','wording']]\n",
    "df_train = df.drop(['content','wording'], axis = 1)"
   ]
  },
  {
   "cell_type": "code",
   "execution_count": 8,
   "id": "3a79e20d-3a3d-4163-b6f6-f07c540f349b",
   "metadata": {
    "tags": []
   },
   "outputs": [],
   "source": [
    "scale_cols = ['len']\n",
    "df_train_sc = df_train[scale_cols]\n",
    "scaler1 = StandardScaler()\n",
    "sc_data = scaler1.fit_transform(df_train_sc)\n",
    "df_train[scale_cols] = sc_data"
   ]
  },
  {
   "cell_type": "code",
   "execution_count": 9,
   "id": "85564f97-3c01-4176-a723-e20712a1e5a6",
   "metadata": {
    "tags": []
   },
   "outputs": [
    {
     "data": {
      "text/plain": [
       "(2057, 8)"
      ]
     },
     "execution_count": 9,
     "metadata": {},
     "output_type": "execute_result"
    }
   ],
   "source": [
    "df.shape"
   ]
  },
  {
   "cell_type": "markdown",
   "id": "cc3b30c5-1921-4d32-ac3d-fb37518e5b89",
   "metadata": {},
   "source": []
  },
  {
   "cell_type": "code",
   "execution_count": 10,
   "id": "030c3cc7-a76d-4f18-b827-2df7fa2bf14d",
   "metadata": {
    "tags": []
   },
   "outputs": [],
   "source": [
    "def split(x,y):\n",
    "    x_train, x_test, y_train, y_test = train_test_split(x, y, test_size = 0.2)\n",
    "    return x_train, x_test, y_train, y_test\n",
    "\n",
    "xtrain, xtest, ytrain, ytest = split(df_train, df_test)"
   ]
  },
  {
   "cell_type": "code",
   "execution_count": 11,
   "id": "5f523489-1c2d-4f39-ad8d-eca311c73668",
   "metadata": {
    "tags": []
   },
   "outputs": [
    {
     "data": {
      "text/plain": [
       "(1645, 6)"
      ]
     },
     "execution_count": 11,
     "metadata": {},
     "output_type": "execute_result"
    }
   ],
   "source": [
    "xtrain.shape"
   ]
  },
  {
   "cell_type": "code",
   "execution_count": 12,
   "id": "fd314191-0c15-4f9c-8918-84505daa4077",
   "metadata": {
    "tags": []
   },
   "outputs": [],
   "source": [
    "models = [RandomForestRegressor(), SVR(), LinearRegression()]"
   ]
  },
  {
   "cell_type": "code",
   "execution_count": 13,
   "id": "ca052d98-1308-4d8c-8842-022cdb21ad4e",
   "metadata": {
    "tags": []
   },
   "outputs": [
    {
     "name": "stdout",
     "output_type": "stream",
     "text": [
      "(0.36782052314569924, 0.6182090719726108)\n",
      "(0.3467188186368151, 0.641606824305262)\n",
      "(0.3977540711416196, 0.5858700286841938)\n"
     ]
    }
   ],
   "source": [
    "def training(x_train, y_train, x_test, y_test, m):\n",
    "    chain = RegressorChain(m, order=[1, 0]).fit(x_train, y_train)\n",
    "    pred = chain.predict(x_test)\n",
    "    err = mean_squared_error(y_test, pred)\n",
    "    r2 = r2_score(y_test, pred)\n",
    "    return err,r2\n",
    "\n",
    "for model in models:\n",
    "    print(training(xtrain, ytrain, xtest, ytest, model))"
   ]
  },
  {
   "cell_type": "code",
   "execution_count": 15,
   "id": "d4de1a54-d0f6-408d-b01b-3c72b1efb2e7",
   "metadata": {
    "tags": []
   },
   "outputs": [
    {
     "data": {
      "text/html": [
       "<div>\n",
       "<style scoped>\n",
       "    .dataframe tbody tr th:only-of-type {\n",
       "        vertical-align: middle;\n",
       "    }\n",
       "\n",
       "    .dataframe tbody tr th {\n",
       "        vertical-align: top;\n",
       "    }\n",
       "\n",
       "    .dataframe thead th {\n",
       "        text-align: right;\n",
       "    }\n",
       "</style>\n",
       "<table border=\"1\" class=\"dataframe\">\n",
       "  <thead>\n",
       "    <tr style=\"text-align: right;\">\n",
       "      <th></th>\n",
       "      <th>content</th>\n",
       "      <th>wording</th>\n",
       "      <th>len</th>\n",
       "      <th>ttr</th>\n",
       "      <th>stopwords_ratio</th>\n",
       "      <th>cossim</th>\n",
       "      <th>conts</th>\n",
       "      <th>misspelled</th>\n",
       "    </tr>\n",
       "  </thead>\n",
       "  <tbody>\n",
       "    <tr>\n",
       "      <th>content</th>\n",
       "      <td>1.000000</td>\n",
       "      <td>0.812911</td>\n",
       "      <td>0.817651</td>\n",
       "      <td>-0.715651</td>\n",
       "      <td>-0.031542</td>\n",
       "      <td>0.490107</td>\n",
       "      <td>0.304870</td>\n",
       "      <td>0.292871</td>\n",
       "    </tr>\n",
       "    <tr>\n",
       "      <th>wording</th>\n",
       "      <td>0.812911</td>\n",
       "      <td>1.000000</td>\n",
       "      <td>0.677444</td>\n",
       "      <td>-0.658177</td>\n",
       "      <td>-0.018613</td>\n",
       "      <td>0.344631</td>\n",
       "      <td>0.276212</td>\n",
       "      <td>0.255415</td>\n",
       "    </tr>\n",
       "    <tr>\n",
       "      <th>len</th>\n",
       "      <td>0.817651</td>\n",
       "      <td>0.677444</td>\n",
       "      <td>1.000000</td>\n",
       "      <td>-0.727686</td>\n",
       "      <td>-0.006908</td>\n",
       "      <td>0.543656</td>\n",
       "      <td>0.399486</td>\n",
       "      <td>0.348326</td>\n",
       "    </tr>\n",
       "    <tr>\n",
       "      <th>ttr</th>\n",
       "      <td>-0.715651</td>\n",
       "      <td>-0.658177</td>\n",
       "      <td>-0.727686</td>\n",
       "      <td>1.000000</td>\n",
       "      <td>-0.095234</td>\n",
       "      <td>-0.470718</td>\n",
       "      <td>-0.247143</td>\n",
       "      <td>-0.246262</td>\n",
       "    </tr>\n",
       "    <tr>\n",
       "      <th>stopwords_ratio</th>\n",
       "      <td>-0.031542</td>\n",
       "      <td>-0.018613</td>\n",
       "      <td>-0.006908</td>\n",
       "      <td>-0.095234</td>\n",
       "      <td>1.000000</td>\n",
       "      <td>0.192988</td>\n",
       "      <td>-0.003468</td>\n",
       "      <td>-0.041238</td>\n",
       "    </tr>\n",
       "    <tr>\n",
       "      <th>cossim</th>\n",
       "      <td>0.490107</td>\n",
       "      <td>0.344631</td>\n",
       "      <td>0.543656</td>\n",
       "      <td>-0.470718</td>\n",
       "      <td>0.192988</td>\n",
       "      <td>1.000000</td>\n",
       "      <td>0.139320</td>\n",
       "      <td>0.162969</td>\n",
       "    </tr>\n",
       "    <tr>\n",
       "      <th>conts</th>\n",
       "      <td>0.304870</td>\n",
       "      <td>0.276212</td>\n",
       "      <td>0.399486</td>\n",
       "      <td>-0.247143</td>\n",
       "      <td>-0.003468</td>\n",
       "      <td>0.139320</td>\n",
       "      <td>1.000000</td>\n",
       "      <td>0.135849</td>\n",
       "    </tr>\n",
       "    <tr>\n",
       "      <th>misspelled</th>\n",
       "      <td>0.292871</td>\n",
       "      <td>0.255415</td>\n",
       "      <td>0.348326</td>\n",
       "      <td>-0.246262</td>\n",
       "      <td>-0.041238</td>\n",
       "      <td>0.162969</td>\n",
       "      <td>0.135849</td>\n",
       "      <td>1.000000</td>\n",
       "    </tr>\n",
       "  </tbody>\n",
       "</table>\n",
       "</div>"
      ],
      "text/plain": [
       "                  content   wording       len       ttr  stopwords_ratio  \\\n",
       "content          1.000000  0.812911  0.817651 -0.715651        -0.031542   \n",
       "wording          0.812911  1.000000  0.677444 -0.658177        -0.018613   \n",
       "len              0.817651  0.677444  1.000000 -0.727686        -0.006908   \n",
       "ttr             -0.715651 -0.658177 -0.727686  1.000000        -0.095234   \n",
       "stopwords_ratio -0.031542 -0.018613 -0.006908 -0.095234         1.000000   \n",
       "cossim           0.490107  0.344631  0.543656 -0.470718         0.192988   \n",
       "conts            0.304870  0.276212  0.399486 -0.247143        -0.003468   \n",
       "misspelled       0.292871  0.255415  0.348326 -0.246262        -0.041238   \n",
       "\n",
       "                   cossim     conts  misspelled  \n",
       "content          0.490107  0.304870    0.292871  \n",
       "wording          0.344631  0.276212    0.255415  \n",
       "len              0.543656  0.399486    0.348326  \n",
       "ttr             -0.470718 -0.247143   -0.246262  \n",
       "stopwords_ratio  0.192988 -0.003468   -0.041238  \n",
       "cossim           1.000000  0.139320    0.162969  \n",
       "conts            0.139320  1.000000    0.135849  \n",
       "misspelled       0.162969  0.135849    1.000000  "
      ]
     },
     "execution_count": 15,
     "metadata": {},
     "output_type": "execute_result"
    }
   ],
   "source": [
    "df.corr()"
   ]
  },
  {
   "cell_type": "code",
   "execution_count": 17,
   "id": "50881bee-b348-41a5-9e10-ef5197dc8cf7",
   "metadata": {
    "tags": []
   },
   "outputs": [
    {
     "data": {
      "text/html": [
       "<div>\n",
       "<style scoped>\n",
       "    .dataframe tbody tr th:only-of-type {\n",
       "        vertical-align: middle;\n",
       "    }\n",
       "\n",
       "    .dataframe tbody tr th {\n",
       "        vertical-align: top;\n",
       "    }\n",
       "\n",
       "    .dataframe thead th {\n",
       "        text-align: right;\n",
       "    }\n",
       "</style>\n",
       "<table border=\"1\" class=\"dataframe\">\n",
       "  <thead>\n",
       "    <tr style=\"text-align: right;\">\n",
       "      <th></th>\n",
       "      <th>content</th>\n",
       "      <th>wording</th>\n",
       "      <th>len</th>\n",
       "      <th>ttr</th>\n",
       "      <th>stopwords_ratio</th>\n",
       "      <th>cossim</th>\n",
       "      <th>conts</th>\n",
       "      <th>misspelled</th>\n",
       "    </tr>\n",
       "  </thead>\n",
       "  <tbody>\n",
       "    <tr>\n",
       "      <th>1038</th>\n",
       "      <td>-1.729859</td>\n",
       "      <td>-0.362702</td>\n",
       "      <td>33</td>\n",
       "      <td>0.818182</td>\n",
       "      <td>0.48</td>\n",
       "      <td>0.449405</td>\n",
       "      <td>0</td>\n",
       "      <td>1</td>\n",
       "    </tr>\n",
       "    <tr>\n",
       "      <th>2045</th>\n",
       "      <td>-1.729859</td>\n",
       "      <td>-0.362702</td>\n",
       "      <td>37</td>\n",
       "      <td>0.810811</td>\n",
       "      <td>0.30</td>\n",
       "      <td>0.465146</td>\n",
       "      <td>0</td>\n",
       "      <td>1</td>\n",
       "    </tr>\n",
       "    <tr>\n",
       "      <th>583</th>\n",
       "      <td>-1.638511</td>\n",
       "      <td>-0.911973</td>\n",
       "      <td>42</td>\n",
       "      <td>0.738095</td>\n",
       "      <td>0.55</td>\n",
       "      <td>0.348578</td>\n",
       "      <td>1</td>\n",
       "      <td>1</td>\n",
       "    </tr>\n",
       "    <tr>\n",
       "      <th>1184</th>\n",
       "      <td>-1.638511</td>\n",
       "      <td>-0.911973</td>\n",
       "      <td>31</td>\n",
       "      <td>0.967742</td>\n",
       "      <td>0.39</td>\n",
       "      <td>0.398580</td>\n",
       "      <td>0</td>\n",
       "      <td>2</td>\n",
       "    </tr>\n",
       "    <tr>\n",
       "      <th>1404</th>\n",
       "      <td>-1.638511</td>\n",
       "      <td>-0.911973</td>\n",
       "      <td>31</td>\n",
       "      <td>0.741935</td>\n",
       "      <td>0.42</td>\n",
       "      <td>0.448036</td>\n",
       "      <td>0</td>\n",
       "      <td>0</td>\n",
       "    </tr>\n",
       "    <tr>\n",
       "      <th>...</th>\n",
       "      <td>...</td>\n",
       "      <td>...</td>\n",
       "      <td>...</td>\n",
       "      <td>...</td>\n",
       "      <td>...</td>\n",
       "      <td>...</td>\n",
       "      <td>...</td>\n",
       "      <td>...</td>\n",
       "    </tr>\n",
       "    <tr>\n",
       "      <th>1887</th>\n",
       "      <td>3.503226</td>\n",
       "      <td>3.638126</td>\n",
       "      <td>353</td>\n",
       "      <td>0.354108</td>\n",
       "      <td>0.42</td>\n",
       "      <td>0.650360</td>\n",
       "      <td>1</td>\n",
       "      <td>3</td>\n",
       "    </tr>\n",
       "    <tr>\n",
       "      <th>673</th>\n",
       "      <td>3.626282</td>\n",
       "      <td>2.204294</td>\n",
       "      <td>337</td>\n",
       "      <td>0.433234</td>\n",
       "      <td>0.40</td>\n",
       "      <td>0.735464</td>\n",
       "      <td>1</td>\n",
       "      <td>4</td>\n",
       "    </tr>\n",
       "    <tr>\n",
       "      <th>216</th>\n",
       "      <td>3.802722</td>\n",
       "      <td>3.514831</td>\n",
       "      <td>313</td>\n",
       "      <td>0.495208</td>\n",
       "      <td>0.39</td>\n",
       "      <td>0.802367</td>\n",
       "      <td>0</td>\n",
       "      <td>2</td>\n",
       "    </tr>\n",
       "    <tr>\n",
       "      <th>402</th>\n",
       "      <td>3.834430</td>\n",
       "      <td>2.630271</td>\n",
       "      <td>357</td>\n",
       "      <td>0.422969</td>\n",
       "      <td>0.43</td>\n",
       "      <td>0.824505</td>\n",
       "      <td>6</td>\n",
       "      <td>4</td>\n",
       "    </tr>\n",
       "    <tr>\n",
       "      <th>1634</th>\n",
       "      <td>3.900326</td>\n",
       "      <td>0.556480</td>\n",
       "      <td>298</td>\n",
       "      <td>0.419463</td>\n",
       "      <td>0.47</td>\n",
       "      <td>0.809527</td>\n",
       "      <td>2</td>\n",
       "      <td>2</td>\n",
       "    </tr>\n",
       "  </tbody>\n",
       "</table>\n",
       "<p>2057 rows × 8 columns</p>\n",
       "</div>"
      ],
      "text/plain": [
       "       content   wording  len       ttr  stopwords_ratio    cossim  conts  \\\n",
       "1038 -1.729859 -0.362702   33  0.818182             0.48  0.449405      0   \n",
       "2045 -1.729859 -0.362702   37  0.810811             0.30  0.465146      0   \n",
       "583  -1.638511 -0.911973   42  0.738095             0.55  0.348578      1   \n",
       "1184 -1.638511 -0.911973   31  0.967742             0.39  0.398580      0   \n",
       "1404 -1.638511 -0.911973   31  0.741935             0.42  0.448036      0   \n",
       "...        ...       ...  ...       ...              ...       ...    ...   \n",
       "1887  3.503226  3.638126  353  0.354108             0.42  0.650360      1   \n",
       "673   3.626282  2.204294  337  0.433234             0.40  0.735464      1   \n",
       "216   3.802722  3.514831  313  0.495208             0.39  0.802367      0   \n",
       "402   3.834430  2.630271  357  0.422969             0.43  0.824505      6   \n",
       "1634  3.900326  0.556480  298  0.419463             0.47  0.809527      2   \n",
       "\n",
       "      misspelled  \n",
       "1038           1  \n",
       "2045           1  \n",
       "583            1  \n",
       "1184           2  \n",
       "1404           0  \n",
       "...          ...  \n",
       "1887           3  \n",
       "673            4  \n",
       "216            2  \n",
       "402            4  \n",
       "1634           2  \n",
       "\n",
       "[2057 rows x 8 columns]"
      ]
     },
     "execution_count": 17,
     "metadata": {},
     "output_type": "execute_result"
    }
   ],
   "source": [
    "df.sort_values(by = ['content','wording'])"
   ]
  },
  {
   "cell_type": "code",
   "execution_count": 29,
   "id": "b3cb0897-6b7a-49a0-89e8-eed43508a242",
   "metadata": {
    "tags": []
   },
   "outputs": [
    {
     "name": "stderr",
     "output_type": "stream",
     "text": [
      "C:\\Users\\asus_\\AppData\\Local\\Temp\\ipykernel_6220\\3141914476.py:5: FutureWarning: \n",
      "\n",
      "`shade` is now deprecated in favor of `fill`; setting `fill=True`.\n",
      "This will become an error in seaborn v0.14.0; please update your code.\n",
      "\n",
      "  sns.kdeplot(df['misspelled'],shade=True)\n"
     ]
    },
    {
     "data": {
      "image/png": "[encoded data removed]",
      "text/plain": [
       "<Figure size 800x400 with 1 Axes>"
      ]
     },
     "metadata": {},
     "output_type": "display_data"
    }
   ],
   "source": [
    "plt.figure(figsize=(8,4))\n",
    "# plt.xlim(0,2000)\n",
    "plt.xlabel('conts')\n",
    "plt.ylabel('Density')\n",
    "sns.kdeplot(df['misspelled'],shade=True)\n",
    "plt.show()"
   ]
  },
  {
   "cell_type": "code",
   "execution_count": 44,
   "id": "6d888089-9041-4e5e-9a6b-720bd0d30fe5",
   "metadata": {
    "tags": []
   },
   "outputs": [],
   "source": [
    "dems = []\n",
    "for i in df['conts']:\n",
    "    if i == 0:\n",
    "        dems.append(0)\n",
    "    else:\n",
    "        dems.append(np.sqrt(i))"
   ]
  },
  {
   "cell_type": "code",
   "execution_count": 45,
   "id": "27effbc3-b578-44ff-b45d-c4d61faa0965",
   "metadata": {
    "tags": []
   },
   "outputs": [
    {
     "name": "stderr",
     "output_type": "stream",
     "text": [
      "C:\\Users\\asus_\\AppData\\Local\\Temp\\ipykernel_6220\\2603602504.py:5: FutureWarning: \n",
      "\n",
      "`shade` is now deprecated in favor of `fill`; setting `fill=True`.\n",
      "This will become an error in seaborn v0.14.0; please update your code.\n",
      "\n",
      "  sns.kdeplot(dems,shade=True)\n"
     ]
    },
    {
     "data": {
      "image/png": "[encoded data removed]",
      "text/plain": [
       "<Figure size 800x400 with 1 Axes>"
      ]
     },
     "metadata": {},
     "output_type": "display_data"
    }
   ],
   "source": [
    "plt.figure(figsize=(8,4))\n",
    "# plt.xlim(0,2000)\n",
    "plt.xlabel('misspelled')\n",
    "plt.ylabel('Density')\n",
    "sns.kdeplot(dems,shade=True)\n",
    "plt.show()"
   ]
  },
  {
   "cell_type": "code",
   "execution_count": 14,
   "id": "74f49abf-4f08-4145-8d79-8246aa616b54",
   "metadata": {
    "tags": []
   },
   "outputs": [
    {
     "data": {
      "text/plain": [
       "0      -0.210614\n",
       "1      -0.970237\n",
       "2      -0.387791\n",
       "3       0.088882\n",
       "4      -0.687288\n",
       "          ...   \n",
       "2052   -0.981265\n",
       "2053   -0.511077\n",
       "2054   -0.834946\n",
       "2055   -0.157460\n",
       "2056   -0.393310\n",
       "Name: content, Length: 2057, dtype: float64"
      ]
     },
     "execution_count": 14,
     "metadata": {},
     "output_type": "execute_result"
    }
   ],
   "source": [
    "df['content']"
   ]
  }
 ],
 "metadata": {
  "kernelspec": {
   "display_name": "Python 3 (ipykernel)",
   "language": "python",
   "name": "python3"
  },
  "language_info": {
   "codemirror_mode": {
    "name": "ipython",
    "version": 3
   },
   "file_extension": ".py",
   "mimetype": "text/x-python",
   "name": "python",
   "nbconvert_exporter": "python",
   "pygments_lexer": "ipython3",
   "version": "3.11.3"
  },
  "widgets": {
   "application/vnd.jupyter.widget-state+json": {
    "state": {},
    "version_major": 2,
    "version_minor": 0
   }
  }
 },
 "nbformat": 4,
 "nbformat_minor": 5
}
